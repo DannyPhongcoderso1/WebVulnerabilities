{
 "cells": [
  {
   "cell_type": "code",
   "execution_count": 1,
   "id": "530b8d98",
   "metadata": {},
   "outputs": [
    {
     "name": "stdout",
     "output_type": "stream",
     "text": [
      "Defaulting to user installation because normal site-packages is not writeable\n",
      "Requirement already satisfied: nbimporter in c:\\users\\danny phong\\appdata\\roaming\\python\\python312\\site-packages (0.3.4)\n",
      "Note: you may need to restart the kernel to use updated packages.\n",
      "Defaulting to user installation because normal site-packages is not writeable\n",
      "Requirement already satisfied: nbformat in c:\\programdata\\anaconda3\\lib\\site-packages (5.10.4)\n",
      "Requirement already satisfied: fastjsonschema>=2.15 in c:\\programdata\\anaconda3\\lib\\site-packages (from nbformat) (2.16.2)\n",
      "Requirement already satisfied: jsonschema>=2.6 in c:\\programdata\\anaconda3\\lib\\site-packages (from nbformat) (4.23.0)\n",
      "Requirement already satisfied: jupyter-core!=5.0.*,>=4.12 in c:\\users\\danny phong\\appdata\\roaming\\python\\python312\\site-packages (from nbformat) (5.7.2)\n",
      "Requirement already satisfied: traitlets>=5.1 in c:\\users\\danny phong\\appdata\\roaming\\python\\python312\\site-packages (from nbformat) (5.14.3)\n",
      "Requirement already satisfied: attrs>=22.2.0 in c:\\programdata\\anaconda3\\lib\\site-packages (from jsonschema>=2.6->nbformat) (23.1.0)\n",
      "Requirement already satisfied: jsonschema-specifications>=2023.03.6 in c:\\programdata\\anaconda3\\lib\\site-packages (from jsonschema>=2.6->nbformat) (2023.7.1)\n",
      "Requirement already satisfied: referencing>=0.28.4 in c:\\programdata\\anaconda3\\lib\\site-packages (from jsonschema>=2.6->nbformat) (0.30.2)\n",
      "Requirement already satisfied: rpds-py>=0.7.1 in c:\\programdata\\anaconda3\\lib\\site-packages (from jsonschema>=2.6->nbformat) (0.10.6)\n",
      "Requirement already satisfied: platformdirs>=2.5 in c:\\users\\danny phong\\appdata\\roaming\\python\\python312\\site-packages (from jupyter-core!=5.0.*,>=4.12->nbformat) (4.3.6)\n",
      "Requirement already satisfied: pywin32>=300 in c:\\users\\danny phong\\appdata\\roaming\\python\\python312\\site-packages (from jupyter-core!=5.0.*,>=4.12->nbformat) (308)\n",
      "Note: you may need to restart the kernel to use updated packages.\n"
     ]
    }
   ],
   "source": [
    "%pip install nbimporter\n",
    "%pip install nbformat"
   ]
  },
  {
   "cell_type": "code",
   "execution_count": 2,
   "id": "b01fb26b",
   "metadata": {},
   "outputs": [
    {
     "name": "stdout",
     "output_type": "stream",
     "text": [
      "<class 'pandas.core.frame.DataFrame'>\n",
      "RangeIndex: 651191 entries, 0 to 651190\n",
      "Data columns (total 2 columns):\n",
      " #   Column  Non-Null Count   Dtype \n",
      "---  ------  --------------   ----- \n",
      " 0   url     651191 non-null  object\n",
      " 1   type    651191 non-null  object\n",
      "dtypes: object(2)\n",
      "memory usage: 9.9+ MB\n",
      "None\n"
     ]
    }
   ],
   "source": [
    "# CODE\n",
    "import pandas as pd\n",
    "import numpy as np\n",
    "from sklearn.decomposition import PCA\n",
    "from sklearn.feature_extraction.text import TfidfVectorizer\n",
    "from urllib.parse import urlparse\n",
    "import re\n",
    "import nbimporter\n",
    "import sys\n",
    "import pandas as pd\n",
    "import numpy as np \n",
    "\n",
    "data = pd.read_csv(\"C:/Users/Danny Phong/Documents/PROJECT/WebVulnerabilities/data/malicious_phish.csv\")\n",
    "print(data.info())\n",
    "\n"
   ]
  },
  {
   "cell_type": "code",
   "execution_count": 3,
   "id": "3fbe0b74",
   "metadata": {},
   "outputs": [],
   "source": [
    "# String processing\n",
    "def extract_features(url):\n",
    "    parsed = urlparse(url)\n",
    "    features = {}\n",
    "    features[\"url_length\"] = len(url)\n",
    "    features[\"num_dots\"] = url.count(\".\")\n",
    "    features[\"num_hyphens\"] = url.count(\"-\")\n",
    "    features[\"num_at\"] = url.count(\"@\")\n",
    "    features[\"uses_https\"] = int(parsed.scheme == \"https\")\n",
    "    features[\"has_ip\"] = int(bool(re.search(r'\\d+\\.\\d+\\.\\d+\\.\\d+', parsed.netloc)))\n",
    "    features[\"num_subdomains\"] = len(parsed.netloc.split(\".\")) - 2  \n",
    "    features[\"path_length\"] = len(parsed.path)\n",
    "    return features\n",
    "\n",
    "# Áp dụng cho tất cả URL trong DataFrame\n",
    "features_df = data[\"url\"].apply(extract_features).apply(pd.Series)"
   ]
  },
  {
   "cell_type": "code",
   "execution_count": 4,
   "id": "e5f8927f",
   "metadata": {},
   "outputs": [
    {
     "name": "stdout",
     "output_type": "stream",
     "text": [
      "                                                 url        type        pca1  \\\n",
      "0                                   br-icloud.com.br    phishing  -50.658225   \n",
      "1                mp3raid.com/music/krizz_kaliko.html      benign  -25.420248   \n",
      "2                    bopsecrets.org/rexroth/cr/1.htm      benign  -30.740088   \n",
      "3  http://www.garage-pirenne.be/index.php?option=...  defacement   11.911550   \n",
      "4  http://adventure-nicaragua.net/index.php?optio...  defacement  144.818209   \n",
      "\n",
      "         pca2  \n",
      "0   -3.906399  \n",
      "1    5.123978  \n",
      "2    3.215432  \n",
      "3  -40.076771  \n",
      "4 -102.743698  \n"
     ]
    }
   ],
   "source": [
    "# Reduce dimensionality and merge back into the original data\n",
    "# Áp dụng PCA để giảm số chiều\n",
    "pca = PCA(n_components=2)  # Chỉ lấy một thành phần\n",
    "reduced_features = pca.fit_transform(features_df)\n",
    "\n",
    "pca_df = pd.DataFrame(reduced_features, columns=[\"pca1\", \"pca2\"])\n",
    "\n",
    "# Dùng để làm cho chỉ số khớp nhau trước khi nối \n",
    "pca_df.reset_index(drop=True, inplace=True)\n",
    "data.reset_index(drop=True, inplace=True)\n",
    "\n",
    "# Nối vào data gốc\n",
    "data = pd.concat([data, pca_df], axis=1)\n",
    "\n",
    "print(data.head())"
   ]
  },
  {
   "cell_type": "code",
   "execution_count": 5,
   "id": "10ec98a5",
   "metadata": {},
   "outputs": [
    {
     "name": "stdout",
     "output_type": "stream",
     "text": [
      "['phishing' 'benign' 'defacement' 'malware']\n",
      "False\n",
      "                                                 url  type        pca1  \\\n",
      "0                                   br-icloud.com.br     1  -50.658225   \n",
      "1                mp3raid.com/music/krizz_kaliko.html     0  -25.420248   \n",
      "2                    bopsecrets.org/rexroth/cr/1.htm     0  -30.740088   \n",
      "3  http://www.garage-pirenne.be/index.php?option=...     1   11.911550   \n",
      "4  http://adventure-nicaragua.net/index.php?optio...     1  144.818209   \n",
      "\n",
      "         pca2  \n",
      "0   -3.906399  \n",
      "1    5.123978  \n",
      "2    3.215432  \n",
      "3  -40.076771  \n",
      "4 -102.743698  \n"
     ]
    }
   ],
   "source": [
    "# Cleaning data\n",
    "\n",
    "# #known_exploited_vulnerabilities.csv\n",
    "# data = data.dropna()\n",
    "# data = data.drop([\"dateAdded\",\"cveID\", \"vulnerabilityName\", \"shortDescription\", \"dueDate\", \"notes\"], axis=1)\n",
    "# data =data.drop_duplicates()\n",
    "\n",
    "#malicious_phish.csv\n",
    "print(data[\"type\"].unique())  # Kiểm tra tất cả giá trị duy nhất trong cột 'type'\n",
    "data.replace(\"nan\", np.nan, inplace=True)\n",
    "data = data.dropna()\n",
    "data = data.drop_duplicates()\n",
    "\n",
    "statusMap = {\"benign\": 0, \"phishing\": 1, \"defacement\": 1, \"malware\": 1}\n",
    "data[\"type\"] = data[\"type\"].map(statusMap)\n",
    "print(data[\"type\"].isna().any())\n",
    "\n",
    "y = data[\"type\"].values.ravel()\n",
    "\n",
    "x = pd.DataFrame(data, columns=[\"pca1\", \"pca2\"])\n",
    "\n",
    "print(data.head())\n",
    "\n",
    "# #csic_database.csv\n",
    "# data = data.dropna()\n",
    "# data = data.drop([\"Pragma\", \"Cache-Control\", \"Accept\", \"Accept-encoding\", \"Accept-charset\", \"language\", \"cookie\", \"content\", \"classification\"], axis=1)\n",
    "# data =data.drop_duplicates()"
   ]
  }
 ],
 "metadata": {
  "kernelspec": {
   "display_name": "base",
   "language": "python",
   "name": "python3"
  },
  "language_info": {
   "codemirror_mode": {
    "name": "ipython",
    "version": 3
   },
   "file_extension": ".py",
   "mimetype": "text/x-python",
   "name": "python",
   "nbconvert_exporter": "python",
   "pygments_lexer": "ipython3",
   "version": "3.12.7"
  }
 },
 "nbformat": 4,
 "nbformat_minor": 5
}
