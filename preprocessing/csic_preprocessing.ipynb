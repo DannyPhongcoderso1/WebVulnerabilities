{
 "cells": [
  {
   "cell_type": "code",
   "execution_count": 1,
   "id": "db20e3e2",
   "metadata": {},
   "outputs": [
    {
     "name": "stdout",
     "output_type": "stream",
     "text": [
      "Requirement already satisfied: kaggle in d:\\new folder\\lib\\site-packages (1.7.4.2)Note: you may need to restart the kernel to use updated packages.\n",
      "\n",
      "Requirement already satisfied: bleach in d:\\new folder\\lib\\site-packages (from kaggle) (6.2.0)\n",
      "Requirement already satisfied: certifi>=14.05.14 in d:\\new folder\\lib\\site-packages (from kaggle) (2025.1.31)\n",
      "Requirement already satisfied: charset-normalizer in d:\\new folder\\lib\\site-packages (from kaggle) (3.4.1)\n",
      "Requirement already satisfied: idna in d:\\new folder\\lib\\site-packages (from kaggle) (3.10)\n",
      "Requirement already satisfied: protobuf in d:\\new folder\\lib\\site-packages (from kaggle) (6.30.2)\n",
      "Requirement already satisfied: python-dateutil>=2.5.3 in d:\\new folder\\lib\\site-packages (from kaggle) (2.9.0.post0)\n",
      "Requirement already satisfied: python-slugify in d:\\new folder\\lib\\site-packages (from kaggle) (8.0.4)\n",
      "Requirement already satisfied: requests in d:\\new folder\\lib\\site-packages (from kaggle) (2.32.3)\n",
      "Requirement already satisfied: setuptools>=21.0.0 in d:\\new folder\\lib\\site-packages (from kaggle) (75.8.1)\n",
      "Requirement already satisfied: six>=1.10 in d:\\new folder\\lib\\site-packages (from kaggle) (1.16.0)\n",
      "Requirement already satisfied: text-unidecode in d:\\new folder\\lib\\site-packages (from kaggle) (1.3)\n",
      "Requirement already satisfied: tqdm in d:\\new folder\\lib\\site-packages (from kaggle) (4.67.1)\n",
      "Requirement already satisfied: urllib3>=1.15.1 in d:\\new folder\\lib\\site-packages (from kaggle) (2.3.0)\n",
      "Requirement already satisfied: webencodings in d:\\new folder\\lib\\site-packages (from kaggle) (0.5.1)\n",
      "Requirement already satisfied: colorama in c:\\users\\acer\\appdata\\roaming\\python\\python312\\site-packages (from tqdm->kaggle) (0.4.6)\n"
     ]
    },
    {
     "name": "stderr",
     "output_type": "stream",
     "text": [
      "\n",
      "[notice] A new release of pip is available: 25.0.1 -> 25.1.1\n",
      "[notice] To update, run: python.exe -m pip install --upgrade pip\n"
     ]
    },
    {
     "name": "stdout",
     "output_type": "stream",
     "text": [
      "Requirement already satisfied: scikit-learn in d:\\new folder\\lib\\site-packages (1.6.1)\n",
      "Requirement already satisfied: pandas in d:\\new folder\\lib\\site-packages (2.2.3)\n",
      "Requirement already satisfied: numpy in d:\\new folder\\lib\\site-packages (2.1.1)\n",
      "Requirement already satisfied: imbalanced-learn in d:\\new folder\\lib\\site-packages (0.13.0)\n",
      "Requirement already satisfied: xgboost in d:\\new folder\\lib\\site-packages (3.0.0)\n",
      "Requirement already satisfied: matplotlib in d:\\new folder\\lib\\site-packages (3.9.2)\n",
      "Requirement already satisfied: seaborn in d:\\new folder\\lib\\site-packages (0.13.2)\n",
      "Requirement already satisfied: scipy>=1.6.0 in d:\\new folder\\lib\\site-packages (from scikit-learn) (1.15.2)\n",
      "Requirement already satisfied: joblib>=1.2.0 in d:\\new folder\\lib\\site-packages (from scikit-learn) (1.4.2)\n",
      "Requirement already satisfied: threadpoolctl>=3.1.0 in d:\\new folder\\lib\\site-packages (from scikit-learn) (3.5.0)\n",
      "Requirement already satisfied: python-dateutil>=2.8.2 in d:\\new folder\\lib\\site-packages (from pandas) (2.9.0.post0)\n",
      "Requirement already satisfied: pytz>=2020.1 in d:\\new folder\\lib\\site-packages (from pandas) (2024.2)\n",
      "Requirement already satisfied: tzdata>=2022.7 in d:\\new folder\\lib\\site-packages (from pandas) (2024.2)\n",
      "Requirement already satisfied: sklearn-compat<1,>=0.1 in d:\\new folder\\lib\\site-packages (from imbalanced-learn) (0.1.3)\n",
      "Requirement already satisfied: contourpy>=1.0.1 in d:\\new folder\\lib\\site-packages (from matplotlib) (1.3.0)\n",
      "Requirement already satisfied: cycler>=0.10 in d:\\new folder\\lib\\site-packages (from matplotlib) (0.12.1)\n",
      "Requirement already satisfied: fonttools>=4.22.0 in d:\\new folder\\lib\\site-packages (from matplotlib) (4.53.1)\n",
      "Requirement already satisfied: kiwisolver>=1.3.1 in d:\\new folder\\lib\\site-packages (from matplotlib) (1.4.7)\n",
      "Requirement already satisfied: packaging>=20.0 in d:\\new folder\\lib\\site-packages (from matplotlib) (24.1)\n",
      "Requirement already satisfied: pillow>=8 in d:\\new folder\\lib\\site-packages (from matplotlib) (10.4.0)\n",
      "Requirement already satisfied: pyparsing>=2.3.1 in d:\\new folder\\lib\\site-packages (from matplotlib) (3.1.4)\n",
      "Requirement already satisfied: six>=1.5 in d:\\new folder\\lib\\site-packages (from python-dateutil>=2.8.2->pandas) (1.16.0)\n",
      "Note: you may need to restart the kernel to use updated packages.\n"
     ]
    },
    {
     "name": "stderr",
     "output_type": "stream",
     "text": [
      "\n",
      "[notice] A new release of pip is available: 25.0.1 -> 25.1.1\n",
      "[notice] To update, run: python.exe -m pip install --upgrade pip\n"
     ]
    }
   ],
   "source": [
    "%pip install kaggle\n",
    "%pip install scikit-learn pandas numpy imbalanced-learn xgboost matplotlib seaborn"
   ]
  },
  {
   "cell_type": "code",
   "execution_count": 2,
   "id": "47d5ea9f",
   "metadata": {},
   "outputs": [],
   "source": [
    "import numpy as np \n",
    "import pandas as pd \n",
    "import seaborn as sns \n",
    "import os\n",
    "import re\n",
    "import matplotlib.pyplot as plt\n",
    "from sklearn.feature_extraction.text import TfidfVectorizer\n",
    "from sklearn.preprocessing import StandardScaler\n",
    "import joblib\n",
    "from imblearn.over_sampling import SMOTE\n",
    "from sklearn.model_selection import train_test_split\n",
    "from sklearn.metrics import accuracy_score, precision_score, recall_score, f1_score, roc_auc_score, roc_curve, confusion_matrix, log_loss\n",
    "#For Random Forest\n",
    "from sklearn.ensemble import RandomForestClassifier\n",
    "from sklearn.model_selection import GridSearchCV\n",
    "# For Naive Bayes\n",
    "from sklearn.naive_bayes import MultinomialNB\n",
    "from sklearn.preprocessing import MinMaxScaler\n",
    "from sklearn.naive_bayes import GaussianNB\n",
    "#For Decision Tree\n",
    "from sklearn.tree import DecisionTreeClassifier\n",
    "#For KNN\n",
    "from sklearn.neighbors import KNeighborsClassifier\n",
    "#For SVM\n",
    "from sklearn.svm import SVC\n",
    "from sklearn.svm import LinearSVC\n",
    "from sklearn.calibration import CalibratedClassifierCV\n",
    "#For XGBoot\n",
    "from xgboost import XGBClassifier\n",
    "\n",
    "import time\n",
    "import pickle\n",
    "\n",
    "\n",
    "import os\n",
    "\n",
    "\n"
   ]
  },
  {
   "cell_type": "code",
   "execution_count": 3,
   "id": "0b559ca8",
   "metadata": {},
   "outputs": [],
   "source": [
    "# Use the raw URL for the CSV file\n",
    "url = \"https://raw.githubusercontent.com/DannyPhongcoderso1/WebVulnerabilities/main/data/csic_database.csv\"\n",
    "\n",
    "# Specify the delimiter if necessary (e.g., ';' or '\\t')\n",
    "df = pd.read_csv(url, delimiter=',', on_bad_lines='skip')"
   ]
  },
  {
   "cell_type": "markdown",
   "id": "583ed204",
   "metadata": {},
   "source": [
    "# **Preprocessing data**"
   ]
  },
  {
   "cell_type": "markdown",
   "id": "d27b2b8e",
   "metadata": {},
   "source": [
    "***Read data and check informations***\n",
    "- Column title\n",
    "- Number of records: n_samples\n",
    "- Number of features: n_feature"
   ]
  },
  {
   "cell_type": "code",
   "execution_count": 4,
   "id": "0af5fad2",
   "metadata": {},
   "outputs": [
    {
     "name": "stdout",
     "output_type": "stream",
     "text": [
      "  Unnamed: 0 Method                                         User-Agent  \\\n",
      "0     Normal    GET  Mozilla/5.0 (compatible; Konqueror/3.5; Linux)...   \n",
      "1     Normal    GET  Mozilla/5.0 (compatible; Konqueror/3.5; Linux)...   \n",
      "2     Normal   POST  Mozilla/5.0 (compatible; Konqueror/3.5; Linux)...   \n",
      "3     Normal    GET  Mozilla/5.0 (compatible; Konqueror/3.5; Linux)...   \n",
      "4     Normal   POST  Mozilla/5.0 (compatible; Konqueror/3.5; Linux)...   \n",
      "\n",
      "     Pragma Cache-Control                                             Accept  \\\n",
      "0  no-cache      no-cache  text/xml,application/xml,application/xhtml+xml...   \n",
      "1  no-cache      no-cache  text/xml,application/xml,application/xhtml+xml...   \n",
      "2  no-cache      no-cache  text/xml,application/xml,application/xhtml+xml...   \n",
      "3  no-cache      no-cache  text/xml,application/xml,application/xhtml+xml...   \n",
      "4  no-cache      no-cache  text/xml,application/xml,application/xhtml+xml...   \n",
      "\n",
      "                    Accept-encoding               Accept-charset language  \\\n",
      "0  x-gzip, x-deflate, gzip, deflate  utf-8, utf-8;q=0.5, *;q=0.5       en   \n",
      "1  x-gzip, x-deflate, gzip, deflate  utf-8, utf-8;q=0.5, *;q=0.5       en   \n",
      "2  x-gzip, x-deflate, gzip, deflate  utf-8, utf-8;q=0.5, *;q=0.5       en   \n",
      "3  x-gzip, x-deflate, gzip, deflate  utf-8, utf-8;q=0.5, *;q=0.5       en   \n",
      "4  x-gzip, x-deflate, gzip, deflate  utf-8, utf-8;q=0.5, *;q=0.5       en   \n",
      "\n",
      "             host                                       cookie  \\\n",
      "0  localhost:8080  JSESSIONID=1F767F17239C9B670A39E9B10C3825F4   \n",
      "1  localhost:8080  JSESSIONID=81761ACA043B0E6014CA42A4BCD06AB5   \n",
      "2  localhost:8080  JSESSIONID=933185092E0B668B90676E0A2B0767AF   \n",
      "3  localhost:8080  JSESSIONID=8FA18BA82C5336D03D3A8AFA3E68CBB0   \n",
      "4  localhost:8080  JSESSIONID=7104E6C68A6BCF1423DAE990CE49FEE2   \n",
      "\n",
      "                        content-type         connection              lenght  \\\n",
      "0                                NaN              close                 NaN   \n",
      "1                                NaN              close                 NaN   \n",
      "2  application/x-www-form-urlencoded  Connection: close  Content-Length: 68   \n",
      "3                                NaN              close                 NaN   \n",
      "4  application/x-www-form-urlencoded  Connection: close  Content-Length: 63   \n",
      "\n",
      "                                             content  classification  \\\n",
      "0                                                NaN               0   \n",
      "1                                                NaN               0   \n",
      "2  id=3&nombre=Vino+Rioja&precio=100&cantidad=55&...               0   \n",
      "3                                                NaN               0   \n",
      "4  modo=entrar&login=choong&pwd=d1se3ci%F3n&remem...               0   \n",
      "\n",
      "                                                 URL  \n",
      "0   http://localhost:8080/tienda1/index.jsp HTTP/1.1  \n",
      "1  http://localhost:8080/tienda1/publico/anadir.j...  \n",
      "2  http://localhost:8080/tienda1/publico/anadir.j...  \n",
      "3  http://localhost:8080/tienda1/publico/autentic...  \n",
      "4  http://localhost:8080/tienda1/publico/autentic...  \n",
      "\n",
      "\n",
      "Number of features: 17\n",
      "Number of samples: 61065\n"
     ]
    }
   ],
   "source": [
    "print(df.head())\n",
    "print(\"\\n\")\n",
    "# Read number of rows and columns\n",
    "n_features = df.shape[1]\n",
    "n_samples = df.shape[0]\n",
    "print(\"Number of features:\", n_features)\n",
    "print(\"Number of samples:\", n_samples)\n",
    "\n",
    "\n"
   ]
  },
  {
   "cell_type": "code",
   "execution_count": 5,
   "id": "72841d68",
   "metadata": {},
   "outputs": [
    {
     "name": "stdout",
     "output_type": "stream",
     "text": [
      "\n",
      "\n",
      "Columns: Index(['Unnamed: 0', 'Method', 'User-Agent', 'Pragma', 'Cache-Control',\n",
      "       'Accept', 'Accept-encoding', 'Accept-charset', 'language', 'host',\n",
      "       'cookie', 'content-type', 'connection', 'lenght', 'content',\n",
      "       'classification', 'URL'],\n",
      "      dtype='object')\n"
     ]
    }
   ],
   "source": [
    "#check columns names\n",
    "print(\"\\n\")\n",
    "print(\"Columns:\",df.columns)"
   ]
  },
  {
   "cell_type": "markdown",
   "id": "9e8cf786",
   "metadata": {},
   "source": [
    "***Visualizing dataset***"
   ]
  },
  {
   "cell_type": "code",
   "execution_count": 6,
   "id": "57c363e9",
   "metadata": {},
   "outputs": [
    {
     "name": "stdout",
     "output_type": "stream",
     "text": [
      "\n",
      "\n",
      "Sample number by Normal and Anomalous: \n",
      "   Unnamed: 0  count\n",
      "0     Normal  36000\n",
      "1  Anomalous  25065\n",
      "lable distribution: \n",
      "classification\n",
      "0    0.589536\n",
      "1    0.410464\n",
      "Name: proportion, dtype: float64\n",
      "Data visuallization:\n"
     ]
    },
    {
     "data": {
      "text/plain": [
       "Text(0.5, 1.0, 'Data Visualization')"
      ]
     },
     "execution_count": 6,
     "metadata": {},
     "output_type": "execute_result"
    },
    {
     "data": {
      "image/png": "[encoded data removed]",
      "text/plain": [
       "<Figure size 640x480 with 1 Axes>"
      ]
     },
     "metadata": {},
     "output_type": "display_data"
    }
   ],
   "source": [
    "print(\"\\n\")\n",
    "print(\"Sample number by Normal and Anomalous: \\n\",df['Unnamed: 0'].value_counts().reset_index(name='count').rename(columns={'index': 'type'}))\n",
    "\n",
    "#label encoding\n",
    "print(\"lable distribution: \")\n",
    "print(df['classification'].value_counts(normalize=True))\n",
    "\n",
    "#data visualization\n",
    "print(\"Data visuallization:\")\n",
    "sns.countplot(data=df, x='Unnamed: 0')\n",
    "plt.title('Data Visualization')"
   ]
  },
  {
   "cell_type": "code",
   "execution_count": 7,
   "id": "8d99e3ca",
   "metadata": {},
   "outputs": [
    {
     "name": "stdout",
     "output_type": "stream",
     "text": [
      "lable                  0\n",
      "Method                 0\n",
      "User-Agent             0\n",
      "Pragma                 0\n",
      "Cache-Control          0\n",
      "Accept               397\n",
      "Accept-encoding        0\n",
      "Accept-charset         0\n",
      "language               0\n",
      "host                   0\n",
      "cookie                 0\n",
      "content-type       43088\n",
      "connection             0\n",
      "lenght             43088\n",
      "content            43088\n",
      "classification         0\n",
      "URL                    0\n",
      "dtype: int64\n"
     ]
    }
   ],
   "source": [
    "#Rename Unnamed: 0 to label\n",
    "df.rename(columns={'Unnamed: 0': 'lable'}, inplace=True)\n",
    "print(df.isnull().sum())"
   ]
  },
  {
   "cell_type": "markdown",
   "id": "4d87cb8d",
   "metadata": {},
   "source": [
    "# **Cleaning data**"
   ]
  },
  {
   "cell_type": "code",
   "execution_count": 8,
   "id": "a3d55798",
   "metadata": {},
   "outputs": [
    {
     "name": "stdout",
     "output_type": "stream",
     "text": [
      "0\n"
     ]
    }
   ],
   "source": [
    "# replace NaN values with common values\n",
    "df['Accept'] = df['Accept'].fillna(df['Accept'].mode()[0])\n",
    "print(df['Accept'].isnull().sum())"
   ]
  },
  {
   "cell_type": "code",
   "execution_count": 9,
   "id": "d6658e4d",
   "metadata": {},
   "outputs": [],
   "source": [
    "df['lenght'] = df['lenght'].fillna('0')\n",
    "df['content-type'] = df['content-type'].fillna('None')\n",
    "df['content'] = df['content'].fillna('None')\n",
    "df['is_post'] = df['Method'].apply(lambda x: 1 if x == 'POST' else 0)"
   ]
  },
  {
   "cell_type": "code",
   "execution_count": 10,
   "id": "7a36783f",
   "metadata": {},
   "outputs": [
    {
     "name": "stdout",
     "output_type": "stream",
     "text": [
      "lable              0\n",
      "Method             0\n",
      "User-Agent         0\n",
      "Pragma             0\n",
      "Cache-Control      0\n",
      "Accept             0\n",
      "Accept-encoding    0\n",
      "Accept-charset     0\n",
      "language           0\n",
      "host               0\n",
      "cookie             0\n",
      "content-type       0\n",
      "connection         0\n",
      "lenght             0\n",
      "content            0\n",
      "classification     0\n",
      "URL                0\n",
      "is_post            0\n",
      "dtype: int64\n"
     ]
    }
   ],
   "source": [
    "print(df.isnull().sum())"
   ]
  },
  {
   "cell_type": "code",
   "execution_count": 11,
   "id": "872a7036",
   "metadata": {},
   "outputs": [
    {
     "name": "stdout",
     "output_type": "stream",
     "text": [
      "Index(['Method', 'User-Agent', 'Pragma', 'Cache-Control', 'Accept',\n",
      "       'Accept-encoding', 'Accept-charset', 'language', 'host', 'cookie',\n",
      "       'content-type', 'connection', 'lenght', 'content', 'classification',\n",
      "       'URL', 'is_post'],\n",
      "      dtype='object')\n"
     ]
    }
   ],
   "source": [
    "\n",
    "df.drop(columns=['lable'],  errors='ignore', inplace=True)\n",
    "print(df.columns)\n"
   ]
  },
  {
   "cell_type": "code",
   "execution_count": 12,
   "id": "6ebf6614",
   "metadata": {},
   "outputs": [
    {
     "name": "stdout",
     "output_type": "stream",
     "text": [
      "PFeature Distribution by Class:\n",
      "                url_length  url_special_chars  url_malicious_keywords  \\\n",
      "classification                                                          \n",
      "0                78.985944           8.930694                1.290833   \n",
      "1               106.611769          13.273050                2.087133   \n",
      "\n",
      "                url_params_count  content_length  content_special_chars  \\\n",
      "classification                                                            \n",
      "0                       1.166667       23.458167               2.875139   \n",
      "1                       2.233034       50.990824               7.418033   \n",
      "\n",
      "                content_malicious_keywords  \n",
      "classification                              \n",
      "0                                 0.513056  \n",
      "1                                 1.123399  \n",
      "Feature Distribution was saved!\n"
     ]
    }
   ],
   "source": [
    "#------------- Feature extraction -----------\n",
    "# Define malicious keywords\n",
    "malicious_keywords = [\n",
    "    'SELECT', 'UNION', 'DROP', 'DELETE', 'FROM', 'WHERE', 'OR', 'LIKE', 'AND', '1=1', '--', '\\'',\n",
    "    'SCRIPT', 'javascript', 'alert', 'iframe', 'src=', 'onerror', 'prompt', 'confirm', 'eval', 'onload',\n",
    "    'mouseover', 'onunload', 'document.', 'window.', 'xmlhttprequest', 'xhr', 'cookie',\n",
    "    'tamper', 'vaciar', 'carrito', 'incorrect', 'pwd', 'login', 'password', 'id',\n",
    "    '%0D', '%0A', '.php', '.js', 'admin', 'administrator'\n",
    "]\n",
    "\n",
    "# Feature extraction from URL\n",
    "df['url_length'] = df['URL'].apply(len)\n",
    "df['url_special_chars'] = df['URL'].apply(lambda x: len(re.findall(r'[%;=<>\\/&\\'\"()\\[\\]#\\-\\+]', x)))\n",
    "df['url_malicious_keywords'] = df['URL'].apply(lambda x: sum(1 for kw in malicious_keywords if kw.lower() in x.lower()))\n",
    "df['url_params_count'] = df['URL'].apply(lambda x: x.count('&') + 1 if '?' in x else 0)\n",
    "\n",
    "# Feature extraction from content\n",
    "df['content_length'] = df['content'].fillna('').apply(len)\n",
    "df['content_special_chars'] = df['content'].fillna('').apply(lambda x: len(re.findall(r'[%;=<>\\/&\\'\"()\\[\\]#\\-\\+]', x)))\n",
    "df['content_malicious_keywords'] = df['content'].fillna('').apply(lambda x: sum(1 for kw in malicious_keywords if kw.lower() in x.lower()))\n",
    "\n",
    "# Check Feature Distribution\n",
    "print(\"PFeature Distribution by Class:\")\n",
    "print(df.groupby('classification')[['url_length', 'url_special_chars', 'url_malicious_keywords', 'url_params_count',\n",
    "                                            'content_length', 'content_special_chars', 'content_malicious_keywords']].mean())\n",
    "\n",
    "# Save Feature contribution\n",
    "df.to_csv('dataset_with_features.csv', index=False)\n",
    "print(\"Feature Distribution was saved!\")"
   ]
  },
  {
   "cell_type": "code",
   "execution_count": 13,
   "id": "65770233",
   "metadata": {},
   "outputs": [
    {
     "data": {
      "image/png": "[encoded data removed]",
      "text/plain": [
       "<Figure size 640x480 with 1 Axes>"
      ]
     },
     "metadata": {},
     "output_type": "display_data"
    }
   ],
   "source": [
    "# Feature Distribution visuallization\n",
    "sns.boxplot(x='classification', y='url_malicious_keywords', data=df)\n",
    "plt.title('url_malicious_keywords distribution by class')\n",
    "plt.show()"
   ]
  },
  {
   "cell_type": "code",
   "execution_count": 14,
   "id": "06c6c457",
   "metadata": {},
   "outputs": [
    {
     "name": "stdout",
     "output_type": "stream",
     "text": [
      "TF-IDF URL matrix size: (61065, 1000)\n",
      "Some words in the URL vocabulary: ['0' '09390' '1' '10' '100' '102' '103' '104' '105' '106']\n"
     ]
    }
   ],
   "source": [
    "df['content'] = df['content'].fillna(' ')\n",
    "url_tfidf = TfidfVectorizer(max_features=1000, lowercase=True, token_pattern=r'(?u)\\b\\w+\\b')\n",
    "url_features = url_tfidf.fit_transform(df['URL']).toarray()\n",
    "url_feature_names = url_tfidf.get_feature_names_out()\n",
    "print(\"TF-IDF URL matrix size:\", url_features.shape)\n",
    "print(\"Some words in the URL vocabulary:\", url_feature_names[:10])"
   ]
  },
  {
   "cell_type": "code",
   "execution_count": 15,
   "id": "e51f3e2c",
   "metadata": {},
   "outputs": [
    {
     "name": "stdout",
     "output_type": "stream",
     "text": [
      "TF-IDF content matrix size: (61065, 1000)\n",
      "Some words in content vocabulary: ['0' '09390' '1' '10' '100' '102' '103' '104' '105' '106']\n"
     ]
    }
   ],
   "source": [
    "# Generate TF-IDF for content\n",
    "content_tfidf = TfidfVectorizer(max_features=1000, lowercase=True, token_pattern=r'(?u)\\b\\w+\\b')\n",
    "content_features = content_tfidf.fit_transform(df['content']).toarray()\n",
    "content_feature_names = content_tfidf.get_feature_names_out()\n",
    "print(\"TF-IDF content matrix size:\", content_features.shape)\n",
    "print(\"Some words in content vocabulary:\", content_feature_names[:10])"
   ]
  },
  {
   "cell_type": "code",
   "execution_count": 16,
   "id": "e22685a6",
   "metadata": {},
   "outputs": [],
   "source": [
    "# Encode category columns using One-Hot Encoding\n",
    "# Encoding Method and content-type\n",
    "# One-Hot Encoding 2 cột: 'Method' và 'content-type'\n",
    "df = pd.get_dummies(\n",
    "    df,                          # DataFrame gốc\n",
    "    columns=['Method', 'content-type'],    # Cột cần mã hóa\n",
    "    prefix=['Method', 'content-type'],     # Tiền tố cho tên cột mới\n",
    "    drop_first=True                        # Bỏ cột đầu tiên (giảm đa cộng tuyến)\n",
    ")"
   ]
  },
  {
   "cell_type": "code",
   "execution_count": 17,
   "id": "232e4e31",
   "metadata": {},
   "outputs": [],
   "source": [
    "manual_features = df[['url_length', 'url_special_chars', 'url_malicious_keywords', 'url_params_count',\n",
    "                               'content_length', 'content_special_chars', 'content_malicious_keywords',\n",
    "                               'is_post']]  \n",
    "\n",
    "one_hot_features = df.filter(like='Method_|content-type_')\n",
    "feature_matrix = np.hstack([\n",
    "    manual_features.values, \n",
    "    one_hot_features.values, \n",
    "    url_features, \n",
    "    content_features\n",
    "])\n",
    "\n",
    "#normalize the feature matrix\n",
    "from sklearn.preprocessing import StandardScaler\n",
    "scaler = StandardScaler()\n",
    "feature_matrix = scaler.fit_transform(feature_matrix)\n",
    "\n"
   ]
  },
  {
   "cell_type": "code",
   "execution_count": 18,
   "id": "d502a289",
   "metadata": {},
   "outputs": [
    {
     "name": "stdout",
     "output_type": "stream",
     "text": [
      "Total features matrix size: (61065, 2008)\n",
      "Is there any NaN in the matrix? 0\n",
      "The first 10 of feature samples: [-0.56025611 -0.50971368 -0.3964348  -0.4469256  -0.41297921 -0.42000477\n",
      " -0.54358599 -0.63582807 -0.03536649 -0.01452911]\n"
     ]
    }
   ],
   "source": [
    "print(\"Total features matrix size:\", feature_matrix.shape)\n",
    "print(\"Is there any NaN in the matrix?\", np.isnan(feature_matrix).sum())\n",
    "print(\"The first 10 of feature samples:\", feature_matrix[0, :10])"
   ]
  },
  {
   "cell_type": "code",
   "execution_count": 19,
   "id": "8e13580b",
   "metadata": {},
   "outputs": [
    {
     "data": {
      "image/png": "[encoded data removed]",
      "text/plain": [
       "<Figure size 640x480 with 1 Axes>"
      ]
     },
     "metadata": {},
     "output_type": "display_data"
    }
   ],
   "source": [
    "# Save after Normalization\n",
    "np.save('feature_matrix_scaled.npy', feature_matrix)\n",
    "np.save('labels.npy', df['classification'].values)  \n",
    "\n",
    "joblib.dump(scaler, 'scaler.pkl')\n",
    "\n",
    "# Re-check & Visualization\n",
    "plt.hist(feature_matrix[:, 0], bins=50)  \n",
    "plt.title('Feature distribution after Normalization.')\n",
    "plt.show()"
   ]
  },
  {
   "cell_type": "markdown",
   "id": "39c78ae6",
   "metadata": {},
   "source": [
    "***Data Balancing***\n",
    "- Problem: Currently valid:toxic sample ratio (~36,000:25,000, ratio ~59:41).\n",
    "- Resolution: Need to perform data balance"
   ]
  },
  {
   "cell_type": "code",
   "execution_count": 20,
   "id": "c372afc3",
   "metadata": {},
   "outputs": [
    {
     "name": "stdout",
     "output_type": "stream",
     "text": [
      "After SMOTE, the number of samples in each class:\n",
      "0    0.5\n",
      "1    0.5\n",
      "Name: proportion, dtype: float64\n"
     ]
    }
   ],
   "source": [
    "#using SMOTE to balance the dataset\n",
    "smote = SMOTE(random_state=42)\n",
    "X_resampled, y_resampled = smote.fit_resample(feature_matrix, df['classification'].values)\n",
    "\n",
    "# Re-check & Visualization\n",
    "print(\"After SMOTE, the number of samples in each class:\")\n",
    "print(pd.Series(y_resampled).value_counts(normalize=True))"
   ]
  },
  {
   "cell_type": "code",
   "execution_count": 21,
   "id": "b3f5599b",
   "metadata": {},
   "outputs": [],
   "source": [
    "# Save balanced Data\n",
    "np.save('X_resampled.npy', X_resampled)\n",
    "np.save('y_resampled.npy', y_resampled)"
   ]
  },
  {
   "cell_type": "code",
   "execution_count": 22,
   "id": "c4ee6a97",
   "metadata": {},
   "outputs": [
    {
     "data": {
      "image/png": "[encoded data removed]",
      "text/plain": [
       "<Figure size 640x480 with 1 Axes>"
      ]
     },
     "metadata": {},
     "output_type": "display_data"
    }
   ],
   "source": [
    "# Balanced Data visualization\n",
    "sns.countplot(x=y_resampled)\n",
    "plt.title('Balanced label distribution after SMOTE')\n",
    "plt.xlabel('Classification (0: Normal, 1: Anomalous)')\n",
    "plt.ylabel('Sample number')\n",
    "plt.show()"
   ]
  },
  {
   "cell_type": "markdown",
   "id": "1a7fa5e3",
   "metadata": {},
   "source": [
    "***Split training data***\n"
   ]
  },
  {
   "cell_type": "code",
   "execution_count": 23,
   "id": "a27033d5",
   "metadata": {},
   "outputs": [
    {
     "name": "stdout",
     "output_type": "stream",
     "text": [
      "Train: (50400, 2008) Val: (7128, 2008) Test: (14472, 2008)\n"
     ]
    }
   ],
   "source": [
    "# Train:Val:Test theo tỷ lệ 7:2:1\n",
    "X_train, X_temp, y_train, y_temp = train_test_split(X_resampled, y_resampled, test_size=0.3, random_state=42)\n",
    "X_val, X_test, y_val, y_test = train_test_split(X_temp, y_temp, test_size=0.67, random_state=42)\n",
    "print(\"Train:\", X_train.shape, \"Val:\", X_val.shape, \"Test:\", X_test.shape)\n",
    "\n",
    "# Save training data\n",
    "np.save('X_train.npy', X_train)\n",
    "np.save('y_train.npy', y_train)\n",
    "np.save('X_val.npy', X_val)\n",
    "np.save('y_val.npy', y_val)\n",
    "np.save('X_test.npy', X_test)\n",
    "np.save('y_test.npy', y_test)"
   ]
  },
  {
   "cell_type": "code",
   "execution_count": null,
   "id": "8c2e5997",
   "metadata": {},
   "outputs": [],
   "source": []
  }
 ],
 "metadata": {
  "kernelspec": {
   "display_name": "Python 3",
   "language": "python",
   "name": "python3"
  },
  "language_info": {
   "codemirror_mode": {
    "name": "ipython",
    "version": 3
   },
   "file_extension": ".py",
   "mimetype": "text/x-python",
   "name": "python",
   "nbconvert_exporter": "python",
   "pygments_lexer": "ipython3",
   "version": "3.12.5"
  }
 },
 "nbformat": 4,
 "nbformat_minor": 5
}
