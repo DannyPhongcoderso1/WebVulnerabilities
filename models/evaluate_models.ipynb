{
 "cells": [
  {
   "cell_type": "code",
   "execution_count": 2,
   "id": "4aa74901",
   "metadata": {},
   "outputs": [],
   "source": [
    "from sklearn.metrics import accuracy_score, precision_score, recall_score, f1_score, roc_curve, roc_auc_score\n",
    "import matplotlib.pyplot as plt"
   ]
  },
  {
   "cell_type": "code",
   "execution_count": null,
   "id": "cccf6884",
   "metadata": {},
   "outputs": [],
   "source": [
    "# Evaluate rf model\n",
    "def evaluate_model_rf(model, X_test, y_test):\n",
    "    y_pred = model.predict(X_test)\n",
    "    y_probs = model.predict_proba(X_test)[:, 1] #lấy xác suất các mẫu có lỗ hổng\n",
    "    fpr, tpr, thresholds = roc_curve(y_test, y_probs)\n",
    "    print(f\"Accuracy: {accuracy_score(y_test, y_pred):.4f}\")\n",
    "    print(f\"Precision: {precision_score(y_test, y_pred, average='weighted'):.4f}\")\n",
    "    print(f\"Recall: {recall_score(y_test, y_pred, average='weighted'):.4f}\")\n",
    "    print(f\"F1-score: {f1_score(y_test, y_pred, average='weighted'):.4f}\")\n",
    "    print(f\"roc_auc: {roc_auc_score(y_test, y_probs)}\")\n",
    "    # Vẽ ROC Curve\n",
    "    plt.figure()\n",
    "    plt.plot(fpr, tpr, color='b', lw=2, label=f'ROC curve (AUC = {roc_auc_score(y_test, y_probs):.2f})')\n",
    "    plt.plot([0, 1], [0, 1], color='gray', linestyle='--')  # Đường phân loại ngẫu nhiên\n",
    "    plt.xlim([0.0, 1.0])\n",
    "    plt.ylim([0.0, 1.05])\n",
    "    plt.xlabel('False Positive Rate (FPR)')\n",
    "    plt.ylabel('True Positive Rate (TPR)')\n",
    "    plt.title('ROC Curve')\n",
    "    plt.legend(loc='lower right')\n",
    "    plt.show()\n",
    "    \n",
    "print(\"Random Forest Evaluation:\")\n",
    "evaluate_model_rf(rf_model, X_test, y_test)"
   ]
  },
  {
   "cell_type": "code",
   "execution_count": null,
   "id": "ba12c655",
   "metadata": {},
   "outputs": [],
   "source": [
    "def evaluate_model_svm(model, X_test, y_test):\n",
    "    y_pred = model.predict(X_test)\n",
    "    print(f\"Accuracy: {accuracy_score(y_test, y_pred):.4f}\")\n",
    "    print(f\"Precision: {precision_score(y_test, y_pred, average='weighted'):.4f}\")\n",
    "    print(f\"Recall: {recall_score(y_test, y_pred, average='weighted'):.4f}\")\n",
    "    print(f\"F1-score: {f1_score(y_test, y_pred, average='weighted'):.4f}\")\n",
    "    \n",
    "    # Vẽ đồ thị\n",
    "    plt.figure(figsize=(8, 6))\n",
    "    plt.scatter(X_train_scaled[:, 0], X_train_scaled[:, 1], c=y_train, cmap='coolwarm', edgecolors='k')\n",
    "\n",
    "    # Tính đường quyết định (decision boundary)\n",
    "    w = svm_model.coef_[0]\n",
    "    b = svm_model.intercept_[0]\n",
    "    x_vals = np.linspace(X_train_scaled[:, 0].min(), X_train_scaled[:, 0].max(), 100)\n",
    "    y_vals = -(w[0] * x_vals + b) / w[1]\n",
    "\n",
    "    plt.plot(x_vals, y_vals, 'k--', label='Decision Boundary')\n",
    "    plt.xlabel(\"Feature 1\")\n",
    "    plt.ylabel(\"Feature 2\")\n",
    "    plt.title(\"LinearSVC Decision Boundary (2D)\")\n",
    "    plt.legend()\n",
    "    plt.show()\n",
    "    \n",
    "print(\"\\nSVM Evaluation:\")\n",
    "evaluate_model_svm(svm_model, X_test_scaled, y_test)\n"
   ]
  }
 ],
 "metadata": {
  "kernelspec": {
   "display_name": "Python 3",
   "language": "python",
   "name": "python3"
  },
  "language_info": {
   "codemirror_mode": {
    "name": "ipython",
    "version": 3
   },
   "file_extension": ".py",
   "mimetype": "text/x-python",
   "name": "python",
   "nbconvert_exporter": "python",
   "pygments_lexer": "ipython3",
   "version": "3.11.9"
  }
 },
 "nbformat": 4,
 "nbformat_minor": 5
}
