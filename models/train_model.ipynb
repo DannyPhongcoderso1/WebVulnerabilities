{
 "cells": [
  {
   "cell_type": "code",
   "execution_count": 1,
   "id": "12ba3df7",
   "metadata": {},
   "outputs": [],
   "source": [
    "from sklearn.model_selection import train_test_split, GridSearchCV\n",
    "from sklearn.ensemble import RandomForestClassifier\n",
    "from sklearn.svm import SVC, LinearSVC\n",
    "from sklearn.preprocessing import StandardScaler"
   ]
  },
  {
   "cell_type": "code",
   "execution_count": null,
   "id": "b6bb7fbd",
   "metadata": {},
   "outputs": [],
   "source": [
    "# Data standardization\n",
    "\n",
    "scaler = StandardScaler()\n",
    "X_train_scaled = scaler.fit_transform(X_train)\n",
    "X_test_scaled = scaler.transform(X_test)"
   ]
  },
  {
   "cell_type": "code",
   "execution_count": null,
   "id": "4a26ac20",
   "metadata": {},
   "outputs": [],
   "source": [
    "# Data splitting\n",
    "\n",
    "X_train, X_test, y_train, y_test = train_test_split(x, y, test_size=0.2, random_state=42)"
   ]
  },
  {
   "cell_type": "code",
   "execution_count": null,
   "id": "29f17b8a",
   "metadata": {},
   "outputs": [],
   "source": [
    "# Random Forest model\n",
    "\n",
    "rf_model = RandomForestClassifier(n_estimators=100, class_weight='balanced', random_state=42)\n",
    "rf_model.fit(X_train, y_train)"
   ]
  },
  {
   "cell_type": "code",
   "execution_count": null,
   "id": "2ce8d5f7",
   "metadata": {},
   "outputs": [],
   "source": [
    "# SVM model\n",
    "\n",
    "# svm_model = SVC(kernel='rbf', C=1.0, class_weight='balanced', random_state=42)\n",
    "# svm_model.fit(X_train_scaled, y_train)\n",
    "\n",
    "svm_model = LinearSVC(class_weight='balanced', random_state=42, max_iter=10000)\n",
    "svm_model.fit(X_train_scaled, y_train)"
   ]
  }
 ],
 "metadata": {
  "kernelspec": {
   "display_name": "Python 3",
   "language": "python",
   "name": "python3"
  },
  "language_info": {
   "codemirror_mode": {
    "name": "ipython",
    "version": 3
   },
   "file_extension": ".py",
   "mimetype": "text/x-python",
   "name": "python",
   "nbconvert_exporter": "python",
   "pygments_lexer": "ipython3",
   "version": "3.11.9"
  }
 },
 "nbformat": 4,
 "nbformat_minor": 5
}
